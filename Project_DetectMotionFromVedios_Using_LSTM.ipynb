{
  "nbformat": 4,
  "nbformat_minor": 0,
  "metadata": {
    "colab": {
      "name": "Project_LSTM.ipynb",
      "provenance": [],
      "collapsed_sections": [],
      "include_colab_link": true
    },
    "kernelspec": {
      "name": "python3",
      "display_name": "Python 3"
    },
    "accelerator": "GPU"
  },
  "cells": [
    {
      "cell_type": "markdown",
      "metadata": {
        "id": "view-in-github",
        "colab_type": "text"
      },
      "source": [
        "<a href=\"https://colab.research.google.com/github/GENAMAGDY/Computer-Vision/blob/main/Project_DetectMotionFromVedios_Using_LSTM.ipynb\" target=\"_parent\"><img src=\"https://colab.research.google.com/assets/colab-badge.svg\" alt=\"Open In Colab\"/></a>"
      ]
    },
    {
      "cell_type": "code",
      "metadata": {
        "id": "D9cjuVqO323Z"
      },
      "source": [
        "from google.colab import drive\n",
        "drive.mount('/content/drive')"
      ],
      "execution_count": null,
      "outputs": []
    },
    {
      "cell_type": "code",
      "metadata": {
        "id": "iTJbdYU536os"
      },
      "source": [
        "import cv2 as cv\n",
        "import cv2 as cv2_imshow\n",
        "import numpy as np\n",
        "import glob\n",
        "import os\n",
        "import math\n",
        "import tensorflow as tf \n",
        "import cv2\n",
        "from keras.utils import to_categorical\n",
        "import numpy as np\n",
        "import os.path\n",
        "from keras.preprocessing import image as Img\n",
        "from keras.applications.inception_v3 import InceptionV3, preprocess_input\n",
        "from keras.models import Model, load_model\n",
        "from keras.layers import Input\n",
        "from tqdm import tqdm"
      ],
      "execution_count": null,
      "outputs": []
    },
    {
      "cell_type": "code",
      "metadata": {
        "id": "u7EURGCf-DJC"
      },
      "source": [
        "base_model = InceptionV3(weights='imagenet',include_top=True)\n",
        "model = Model( inputs=base_model.input,outputs=base_model.get_layer('avg_pool').output)"
      ],
      "execution_count": null,
      "outputs": []
    },
    {
      "cell_type": "code",
      "metadata": {
        "id": "mLikeK9M6zv5"
      },
      "source": [
        "def rescale_list(input_list, size):\n",
        "        if len(input_list) >= size:\n",
        "           skip = len(input_list) // size\n",
        "        else : \n",
        "           l = size - len(input_list)\n",
        "           for i in range(l+1):\n",
        "              H,W,D = input_list[0].shape\n",
        "              s = np.zeros((H,W,D))\n",
        "              input_list.append(s)\n",
        "              skip = len(input_list) // size\n",
        "\n",
        "        output = [input_list[i] for i in range(0, len(input_list), skip)]\n",
        "        return output[:size]\n",
        "\n",
        "X_train = []\n",
        "Y_train = []\n",
        "\n",
        "listOfFiles = os.listdir(path=r'/content/drive/My Drive/CompetationCV/Training/')\n",
        "number = 0\n",
        "for entry in listOfFiles:\n",
        "    Files = os.listdir('/content/drive/My Drive/CompetationCV/Training/' + entry)\n",
        "    for video in Files:\n",
        "        print('Train:', number)\n",
        "        number += 1\n",
        "        cap = cv.VideoCapture('/content/drive/My Drive/CompetationCV/Training/' + entry + '/' + video)\n",
        "        frames = []\n",
        "        while (True):\n",
        "            ret, frame = cap.read()\n",
        "            if ret == False:\n",
        "              break\n",
        "            else:\n",
        "              frames.append(frame)\n",
        "        rescale_list(frames, 40)\n",
        "        sequence = []\n",
        "        for image in frames:\n",
        "            img = cv2.resize(image, (299, 299))\n",
        "            x = Img.img_to_array(img)\n",
        "            x = np.expand_dims(x, axis=0) \n",
        "            #The expand_dims() function is used to expand the shape of an array. Insert a new axis that will appear at the axis position in the expanded array shape.\n",
        "            x = preprocess_input(x)\n",
        "            #The preprocess_input function is meant to adequate your image to the format the model requires.\n",
        "            features = model.predict(x)\n",
        "            sequence.append(features[0])   \n",
        "                \n",
        "        X_train.append(sequence)\n",
        "        if entry == 'Jumping':\n",
        "            Y_train.append(1)\n",
        "        elif entry == 'Tennis':\n",
        "            Y_train.append(3)\n",
        "        elif entry == 'Walking':\n",
        "            Y_train.append(4)\n",
        "        elif entry == 'Basketball':\n",
        "            Y_train.append(2)\n",
        "        elif entry == 'Diving':\n",
        "            Y_train.append(0)\n",
        "        cap.release()\n",
        "\n",
        "        \n",
        "\n",
        "y_train_categorical = to_categorical(Y_train).astype(np.integer)"
      ],
      "execution_count": null,
      "outputs": []
    },
    {
      "cell_type": "code",
      "metadata": {
        "id": "7w8wf8N_4HsK"
      },
      "source": [
        ""
      ],
      "execution_count": null,
      "outputs": []
    },
    {
      "cell_type": "code",
      "metadata": {
        "id": "hfpexHBA90G5"
      },
      "source": [
        ""
      ],
      "execution_count": null,
      "outputs": []
    },
    {
      "cell_type": "code",
      "metadata": {
        "id": "A_cB13syN1XG"
      },
      "source": [
        "  \n",
        "X_test = []\n",
        "X_name = []\n",
        "listOfFiles = os.listdir(path=r'/content/drive/My Drive/CompetationCV/Testing_set/')\n",
        "number = 0\n",
        "for video in listOfFiles:\n",
        "        X_name.append(video)\n",
        "        print('Test:', number)\n",
        "        number += 1\n",
        "        cap = cv.VideoCapture('/content/drive/My Drive/CompetationCV/Testing_set/' + video)\n",
        "        frames = []\n",
        "        while (True):\n",
        "            ret, frame = cap.read()\n",
        "            if ret == False:\n",
        "              break\n",
        "            else:\n",
        "              frames.append(frame)\n",
        "        rescale_list(frames, 40)\n",
        "        sequence = []\n",
        "        for image in frames:\n",
        "            img = cv2.resize(image, (299, 299))\n",
        "            x = Img.img_to_array(img)\n",
        "            x = np.expand_dims(x, axis=0)\n",
        "            x = preprocess_input(x)\n",
        "            features = model.predict(x)\n",
        "            sequence.append(features[0])   \n",
        "        X_test.append(sequence)\n",
        "        \n",
        "        cap.release()\n",
        "\n",
        "        \n",
        "\n",
        "\n"
      ],
      "execution_count": null,
      "outputs": []
    },
    {
      "cell_type": "code",
      "metadata": {
        "id": "wCE3HEWP533b"
      },
      "source": [
        "XX_test = np.empty((126,40,2048))\n",
        "c=0\n",
        "for C in X_test:\n",
        "    XX_test[c] =np.resize(np.array(C) ,(40 , 2048))\n",
        "    c+=1\n",
        "y_train_categorical = to_categorical(Y_train).astype(np.integer)"
      ],
      "execution_count": null,
      "outputs": []
    },
    {
      "cell_type": "code",
      "metadata": {
        "id": "2Rt-PBFX90LE"
      },
      "source": [
        "import numpy as np\n",
        "import os.path\n",
        "from keras.preprocessing import image as Img\n",
        "from keras.applications.inception_v3 import InceptionV3, preprocess_input\n",
        "from keras.models import Model, load_model\n",
        "from keras.layers import Input\n",
        "from tqdm import tqdm\n",
        "from keras.layers import Dense, Flatten, Dropout, ZeroPadding3D\n",
        "from keras.layers.recurrent import LSTM\n",
        "from keras.models import Sequential, load_model\n",
        "from keras.optimizers import Adam\n",
        "from collections import deque\n",
        "import sys\n",
        "from keras.callbacks import TensorBoard, ModelCheckpoint, EarlyStopping, CSVLogger\n",
        "import time\n",
        "import os.path\n",
        "import keras\n",
        "from keras.models import Sequential\n",
        "from keras.layers import Dense, Flatten, Conv3D, MaxPooling3D, Dropout, BatchNormalization\n",
        "import h5py\n",
        "import numpy as np\n",
        "from keras.models import Model,Sequential\n",
        "from keras.utils import to_categorical\n",
        "from keras.layers import LSTM, Dense, BatchNormalization, Dropout\n",
        "from keras import regularizers\n",
        "from keras.datasets import cifar10\n",
        "from keras.layers import (Activation, Conv3D, Dense, Dropout)\n",
        "from keras.layers.advanced_activations import LeakyReLU\n",
        "from keras.losses import categorical_crossentropy\n",
        "from keras.optimizers import Adam\n",
        "from keras.utils import np_utils\n",
        "from keras.utils.vis_utils import plot_model\n",
        "from keras.preprocessing.image import ImageDataGenerator\n",
        "from keras.models import Sequential, load_model\n",
        "from keras.layers.core import Dense, Dropout, Activation, Flatten\n",
        "from keras.layers.convolutional import Convolution3D, MaxPooling3D\n",
        "\n",
        "from keras.optimizers import Adam , SGD, RMSprop\n",
        "from keras.utils import np_utils, generic_utils\n",
        "import tensorflow as tf\n",
        "import os\n",
        "import matplotlib\n",
        "import matplotlib.pyplot as plt\n",
        "import numpy as np\n",
        "import cv2\n",
        "from sklearn.model_selection import train_test_split\n",
        "from sklearn.model_selection import cross_validate\n",
        "from sklearn import preprocessing\n",
        "import random"
      ],
      "execution_count": null,
      "outputs": []
    },
    {
      "cell_type": "code",
      "metadata": {
        "id": "Q1n6Hf8KxFSK"
      },
      "source": [
        "X= X_train\n",
        "XX = np.empty((474 , 40,2048))\n",
        "c=0\n",
        "for C in X:\n",
        "    XX[c] = np.resize(np.array(C) ,(40 , 2048))\n",
        "    c+=1\n",
        "y_train_categorical = to_categorical(Y_train).astype(np.integer)"
      ],
      "execution_count": null,
      "outputs": []
    },
    {
      "cell_type": "code",
      "metadata": {
        "id": "bW6Ct_xmIoy5"
      },
      "source": [
        "from keras.layers import Embedding"
      ],
      "execution_count": null,
      "outputs": []
    },
    {
      "cell_type": "code",
      "metadata": {
        "id": "BSIb8YsE4XCC"
      },
      "source": [
        "model = Sequential()\n",
        "'''''\n",
        "\n",
        "model.add(LSTM(2048, return_sequences=False,input_shape=XX.shape[1:],dropout=0.5))\n",
        "model.add(Dense(512, activation='relu',dropout=0.5))\n",
        "model.add(Dropout(0.5))\n",
        "\n",
        "''' Dropout is a regularization technique for reducing overfitting in artificial \n",
        "neural networks by preventing complex co-adaptations on training data.\n",
        " It is an efficient way of performing model averaging with \n",
        "neural networks. The term dilution refers to the thinning of the weights.'''\n",
        "model.add(Dense(5, activation='softmax'))\n",
        "optimizer = Adam(lr=0.01, decay=1e-6)\n",
        "model.compile(loss='categorical_crossentropy', optimizer=optimizer,metrics=['accuracy'])\n",
        "print(model.summary())\n",
        "\n",
        "model.fit(XX, y_train_categorical, batch_size=16,validation_split=0.1, verbose=1,epochs=50)"
      ],
      "execution_count": null,
      "outputs": []
    },
    {
      "cell_type": "code",
      "metadata": {
        "id": "14cX-jwp4jRy"
      },
      "source": [
        ""
      ],
      "execution_count": null,
      "outputs": []
    },
    {
      "cell_type": "code",
      "metadata": {
        "id": "kxjyddaiN1ir"
      },
      "source": [
        "prediction = model.predict(XX_test)\n",
        "print(prediction)"
      ],
      "execution_count": null,
      "outputs": []
    },
    {
      "cell_type": "code",
      "metadata": {
        "id": "RHEWZ28A1YtU"
      },
      "source": [
        "Y_test=[]\n",
        "for i in prediction :\n",
        "  maxx = np.max(i)\n",
        "  if i[0] == maxx:\n",
        "    Y_test.append(0)\n",
        "  if i[1] == maxx:\n",
        "    Y_test.append(1)\n",
        "  if i[2] == maxx:\n",
        "    Y_test.append(2)\n",
        "  if i[3] == maxx:\n",
        "    Y_test.append(3)\n",
        "  if i[4] == maxx:\n",
        "    Y_test.append(4)\n",
        "print(Y_test)\n",
        "import pandas as pd\n",
        "df = pd.DataFrame({'Video': X_name, 'Label': Y_test})\n",
        "\n",
        "df.to_csv('/content/drive/My Drive/CompetationCV/submit.csv' , index=False)\n"
      ],
      "execution_count": null,
      "outputs": []
    },
    {
      "cell_type": "code",
      "metadata": {
        "id": "ZK3OGO_48owZ"
      },
      "source": [
        ""
      ],
      "execution_count": null,
      "outputs": []
    }
  ]
}